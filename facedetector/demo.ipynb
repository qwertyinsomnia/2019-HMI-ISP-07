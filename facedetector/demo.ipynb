{
 "cells": [
  {
   "cell_type": "code",
   "execution_count": null,
   "metadata": {},
   "outputs": [
    {
     "name": "stderr",
     "output_type": "stream",
     "text": [
      "Using TensorFlow backend.\n"
     ]
    }
   ],
   "source": [
    "from statistics import mode\n",
    "import cv2\n",
    "from keras.models import load_model\n",
    "import numpy as np\n",
    "from utils import preprocess_input\n",
    "\n",
    "# parameters for loading data and images\n",
    "detection_model_path = 'trained_models/facemodel/haarcascade_frontalface_default.xml'\n",
    "emotion_model_path = 'trained_models/float_models/fer2013_mini_XCEPTION.33-0.65.hdf5'\n",
    "\n",
    "face_detection = cv2.CascadeClassifier(detection_model_path)\n",
    "emotion_window = []\n",
    "frame_window = 10\n",
    "\n",
    "# starting video streaming\n",
    "cv2.namedWindow('window_frame')\n",
    "video_capture = cv2.VideoCapture(0)\n",
    "while True:\n",
    "    bgr_image = video_capture.read()[1]\n",
    "    gray_image = cv2.cvtColor(bgr_image, cv2.COLOR_BGR2GRAY)\n",
    "    rgb_image = cv2.cvtColor(bgr_image, cv2.COLOR_BGR2RGB)\n",
    "    faces = face_detection.detectMultiScale(gray_image, 1.3, 5)\n",
    "    for face_coordinates in faces:\n",
    "        x1,y1,width,height = face_coordinates\n",
    "        x1,y1,x2,y2 = x1,y1,x1+width,y1+height\n",
    "        gray_face = gray_image[y1:y2, x1:x2]\n",
    "\n",
    "        color = (0,0,255)\n",
    "        cv2.rectangle(rgb_image,(x1,y1),(x2,y2),(0,0,255),2)\n",
    "        \n",
    "    bgr_image = cv2.cvtColor(rgb_image, cv2.COLOR_RGB2BGR)\n",
    "    cv2.imshow('window_frame', bgr_image)\n",
    "    if cv2.waitKey(1) & 0xFF == ord('q'):\n",
    "        break\n"
   ]
  },
  {
   "cell_type": "code",
   "execution_count": null,
   "metadata": {},
   "outputs": [],
   "source": []
  }
 ],
 "metadata": {
  "kernelspec": {
   "display_name": "Python 3",
   "language": "python",
   "name": "python3"
  },
  "language_info": {
   "codemirror_mode": {
    "name": "ipython",
    "version": 3
   },
   "file_extension": ".py",
   "mimetype": "text/x-python",
   "name": "python",
   "nbconvert_exporter": "python",
   "pygments_lexer": "ipython3",
   "version": "3.5.4"
  }
 },
 "nbformat": 4,
 "nbformat_minor": 2
}
